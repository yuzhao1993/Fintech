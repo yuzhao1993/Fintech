{
 "cells": [
  {
   "cell_type": "code",
   "execution_count": 8,
   "metadata": {},
   "outputs": [],
   "source": [
    "import numpy as np\n",
    "import pandas as pd\n",
    "import pandas_datareader.data as web\n",
    "import os\n",
    "import warnings\n",
    "\n",
    "warnings.filterwarnings('ignore')"
   ]
  },
  {
   "cell_type": "code",
   "execution_count": 39,
   "metadata": {},
   "outputs": [],
   "source": [
    "def mySVD(A):\n",
    "    V1 = np.dot(A.T, A)\n",
    "    U1 = np.dot(A, A.T)\n",
    "    V_val, V = np.linalg.eig(V1)\n",
    "    U_val, U = np.linalg.eig(U1)\n",
    "    S = np.sqrt(U_val)\n",
    "    if np.allclose(np.eye(len(U)), U.dot(U.T.conj())) == True and np.allclose(np.eye(len(V)), V.dot(V.T.conj())) == True:\n",
    "        return -np.sort(-S)\n",
    "    else:\n",
    "        print('\\nError: matrix U or V is not unitary matrix.\\n')\n",
    "        return -np.sort(-S)"
   ]
  },
  {
   "cell_type": "code",
   "execution_count": 42,
   "metadata": {},
   "outputs": [],
   "source": [
    "def compute_distribution(df):\n",
    "    s = mySVD(df)\n",
    "    rate = s/np.sum(s)\n",
    "    return rate\n",
    "\n",
    "\n",
    "def compute_entropy(x):\n",
    "    s = compute_distribution(x)\n",
    "    entropy = -np.log2(np.inner(s,np.log2(1+s)))\n",
    "    return entropy\n",
    "\n",
    "\n",
    "def relative_entropy(p,q):\n",
    "    if not(p.shape == q.shape):\n",
    "        print(\"\\n Error: dimension must be aligned for two vectors\\n\")\n",
    "        quit()\n",
    "    p_over_q = np.zeros(len(p))\n",
    "    with np.errstate(divide='ignore'):\n",
    "        p_over_q = p/q\n",
    "    t = np.log2(p_over_q)\n",
    "    t[np.isnan(t)] = 0.0\n",
    "    t[np.isinf(t)] = 0.0\n",
    "    ans = np.inner(p,t)\n",
    "    return ans"
   ]
  },
  {
   "cell_type": "code",
   "execution_count": 12,
   "metadata": {},
   "outputs": [],
   "source": [
    "def retrieve_stock_data(stock_list, s_date, e_date):\n",
    "    i = 0\n",
    "    stock_data = {}\n",
    "    for stock in stock_list:\n",
    "        data = web.DataReader(stock, 'yahoo', s_date, e_date)\n",
    "        stock_data[stock] = data\n",
    "        filename = stock + '.csv'\n",
    "        data.to_csv(filename)\n",
    "        i += 1\n",
    "    return stock_data"
   ]
  },
  {
   "cell_type": "code",
   "execution_count": 15,
   "metadata": {},
   "outputs": [
    {
     "name": "stdout",
     "output_type": "stream",
     "text": [
      "Can't create Stock_data!\t\n",
      "A same name folder may exist\n",
      "\n",
      "\n",
      "Data retrival is complete. Check your directory**Stock_data**to find your data!\n",
      "\n"
     ]
    }
   ],
   "source": [
    "stock_list = ['GM', 'F', 'TM', 'TSLA', 'HMC']\n",
    "\n",
    "dir_name = 'Stock_data'\n",
    "if not os.path.isfile(dir_name):\n",
    "    try:\n",
    "        os.mkdir(dir_name)\n",
    "    except FileExistsError:\n",
    "        print(\"Can't create \" + dir_name + \"!\\t\")\n",
    "        print(\"A same name folder may exist\\n\")\n",
    "\n",
    "os.chdir(dir_name)\n",
    "stock_data = retrieve_stock_data(stock_list, '10/01/2018', '11/04/2019')\n",
    "os.chdir('..')\n",
    "print(\"\\nData retrival is complete. Check your directory**\" + dir_name + \"**to find your data!\\n\")"
   ]
  },
  {
   "cell_type": "code",
   "execution_count": 43,
   "metadata": {},
   "outputs": [
    {
     "name": "stdout",
     "output_type": "stream",
     "text": [
      "\n",
      "Error: matrix U or V is not unitary matrix.\n",
      "\n",
      "\n",
      "Error: matrix U or V is not unitary matrix.\n",
      "\n",
      "\n",
      "Error: matrix U or V is not unitary matrix.\n",
      "\n",
      "\n",
      "Error: matrix U or V is not unitary matrix.\n",
      "\n",
      "\n",
      "Error: matrix U or V is not unitary matrix.\n",
      "\n",
      "\n",
      "Error: matrix U or V is not unitary matrix.\n",
      "\n",
      "\n",
      "Error: matrix U or V is not unitary matrix.\n",
      "\n",
      "\n",
      "Error: matrix U or V is not unitary matrix.\n",
      "\n",
      "\n",
      "Error: matrix U or V is not unitary matrix.\n",
      "\n",
      "\n",
      "Error: matrix U or V is not unitary matrix.\n",
      "\n",
      "\n",
      "Checking stock entropy\n",
      "\n",
      "[7.92238789e-06 1.57281394e-06 1.28272087e-03 6.09982212e-05\n",
      " 6.97592246e-05]\n",
      "\n",
      "Checking Relative Entropy\n",
      "\n"
     ]
    },
    {
     "data": {
      "text/html": [
       "<div>\n",
       "<style scoped>\n",
       "    .dataframe tbody tr th:only-of-type {\n",
       "        vertical-align: middle;\n",
       "    }\n",
       "\n",
       "    .dataframe tbody tr th {\n",
       "        vertical-align: top;\n",
       "    }\n",
       "\n",
       "    .dataframe thead th {\n",
       "        text-align: right;\n",
       "    }\n",
       "</style>\n",
       "<table border=\"1\" class=\"dataframe\">\n",
       "  <thead>\n",
       "    <tr style=\"text-align: right;\">\n",
       "      <th></th>\n",
       "      <th>GM</th>\n",
       "      <th>F</th>\n",
       "      <th>TM</th>\n",
       "      <th>TSLA</th>\n",
       "      <th>HMC</th>\n",
       "    </tr>\n",
       "  </thead>\n",
       "  <tbody>\n",
       "    <tr>\n",
       "      <th>GM</th>\n",
       "      <td>-1.601708e-16</td>\n",
       "      <td>6.961928e-06</td>\n",
       "      <td>7.203337e-04</td>\n",
       "      <td>2.185338e-05</td>\n",
       "      <td>2.620090e-05</td>\n",
       "    </tr>\n",
       "    <tr>\n",
       "      <th>F</th>\n",
       "      <td>2.395623e-06</td>\n",
       "      <td>-1.601712e-16</td>\n",
       "      <td>7.420770e-04</td>\n",
       "      <td>3.265958e-05</td>\n",
       "      <td>3.809773e-05</td>\n",
       "    </tr>\n",
       "    <tr>\n",
       "      <th>TM</th>\n",
       "      <td>3.183340e-03</td>\n",
       "      <td>5.368681e-03</td>\n",
       "      <td>-4.908151e-22</td>\n",
       "      <td>1.577918e-03</td>\n",
       "      <td>1.480610e-03</td>\n",
       "    </tr>\n",
       "    <tr>\n",
       "      <th>TSLA</th>\n",
       "      <td>4.510113e-05</td>\n",
       "      <td>1.427462e-04</td>\n",
       "      <td>6.032564e-04</td>\n",
       "      <td>-1.193127e-23</td>\n",
       "      <td>-2.762163e-07</td>\n",
       "    </tr>\n",
       "    <tr>\n",
       "      <th>HMC</th>\n",
       "      <td>5.619704e-05</td>\n",
       "      <td>1.692869e-04</td>\n",
       "      <td>5.888465e-04</td>\n",
       "      <td>1.610801e-08</td>\n",
       "      <td>-6.780950e-23</td>\n",
       "    </tr>\n",
       "  </tbody>\n",
       "</table>\n",
       "</div>"
      ],
      "text/plain": [
       "                GM             F            TM          TSLA           HMC\n",
       "GM   -1.601708e-16  6.961928e-06  7.203337e-04  2.185338e-05  2.620090e-05\n",
       "F     2.395623e-06 -1.601712e-16  7.420770e-04  3.265958e-05  3.809773e-05\n",
       "TM    3.183340e-03  5.368681e-03 -4.908151e-22  1.577918e-03  1.480610e-03\n",
       "TSLA  4.510113e-05  1.427462e-04  6.032564e-04 -1.193127e-23 -2.762163e-07\n",
       "HMC   5.619704e-05  1.692869e-04  5.888465e-04  1.610801e-08 -6.780950e-23"
      ]
     },
     "metadata": {},
     "output_type": "display_data"
    }
   ],
   "source": [
    "stock_entropy = np.zeros(len(stock_list))\n",
    "p_distribution = {}\n",
    "i = 0\n",
    "for stock in stock_list:\n",
    "    df = stock_data[stock].iloc[:, 2:7]\n",
    "    p_distribution[stock] = compute_distribution(df)\n",
    "    stock_entropy[i] = compute_entropy(df)\n",
    "    i += 1\n",
    "\n",
    "print('\\nChecking stock entropy\\n')\n",
    "print(stock_entropy)\n",
    "    \n",
    "relative_entropy_matrix = np.zeros([len(p_distribution),len(p_distribution)])\n",
    "for i in range(len(stock_list)):\n",
    "    for j in range(len(stock_list)):\n",
    "        relative_entropy_matrix[i,j] = relative_entropy(p_distribution[stock_list[i]], p_distribution[stock_list[j]])\n",
    "relative_entropy_df = pd.DataFrame(data=relative_entropy_matrix, index= stock_list, columns= stock_list)\n",
    "print('\\nChecking Relative Entropy\\n')\n",
    "display(relative_entropy_df)"
   ]
  },
  {
   "cell_type": "markdown",
   "metadata": {},
   "source": [
    "# Conclution"
   ]
  }
 ],
 "metadata": {
  "kernelspec": {
   "display_name": "Python 3",
   "language": "python",
   "name": "python3"
  },
  "language_info": {
   "codemirror_mode": {
    "name": "ipython",
    "version": 3
   },
   "file_extension": ".py",
   "mimetype": "text/x-python",
   "name": "python",
   "nbconvert_exporter": "python",
   "pygments_lexer": "ipython3",
   "version": "3.7.3"
  }
 },
 "nbformat": 4,
 "nbformat_minor": 2
}
