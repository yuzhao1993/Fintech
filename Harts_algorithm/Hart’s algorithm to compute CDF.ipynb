{
 "cells": [
  {
   "cell_type": "code",
   "execution_count": 1,
   "metadata": {},
   "outputs": [],
   "source": [
    "from math import exp\n",
    "from scipy.stats import norm"
   ]
  },
  {
   "cell_type": "code",
   "execution_count": 2,
   "metadata": {},
   "outputs": [],
   "source": [
    "def caculateStandardNormalCDF(x):\n",
    "    t = abs(x)\n",
    "    t1 = 7.07106781186547\n",
    "    t2 = 37\n",
    "    t3 = 2.506628274631\n",
    "    \n",
    "    a1 = 0.0352624965998911\n",
    "    a2 = 0.700383064443688\n",
    "    a3 = 6.37396220353165\n",
    "    a4 = 33.912866078383\n",
    "    a5 = 112.079291497871\n",
    "    a6 = 221.213596169931\n",
    "    a7 = 220.206867912376\n",
    "    \n",
    "    b1 = 0.0883883476483184\n",
    "    b2 = 1.75566716318264\n",
    "    b3 = 16.064177579207\n",
    "    b4 = 86.7807322029461\n",
    "    b5 = 296.564248779674\n",
    "    b6 = 637.333633378831\n",
    "    b7 = 793.826512519948\n",
    "    b8 = 440.413735824752\n",
    "    \n",
    "    A = ((((((a1 * t + a2) * t + a3) * t + a4) * t + a5) * t + a6) * t + a7)\n",
    "    B = (((((((b1 * t + b2) * t + b3) * t + b4) * t + b5) * t + b6) * t + b7) * t + b8)\n",
    "    C = t + 1 / (t + 2 / (t + 3 / (t + 4 / (t + 0.65))))\n",
    "    \n",
    "    if x < 0:\n",
    "        if t < t1:\n",
    "            ans = exp(-t ** 2 / 2) * (A/B)\n",
    "        elif t <= t2:\n",
    "            ans = exp(-t ** 2 / 2) * (1 / (t3 * C))\n",
    "        else:\n",
    "            ans = 0\n",
    "    else :\n",
    "        if t < t1:\n",
    "            ans = 1 - (exp(-t ** 2 / 2) * (A/B))\n",
    "        elif t <= t2:\n",
    "            ans = 1 - (exp(-t ** 2 / 2) * (1 / (t3 * C)))\n",
    "        else:\n",
    "            ans = 1 - 0\n",
    "    return ans"
   ]
  },
  {
   "cell_type": "code",
   "execution_count": 7,
   "metadata": {},
   "outputs": [
    {
     "name": "stdout",
     "output_type": "stream",
     "text": [
      "The cumulative standard normal distribution of my function is:\n",
      "0.492021686283098\n",
      "\n",
      "The cumulative standard normal distribution of norm.cdf function is:\n",
      "0.492021686283098\n"
     ]
    }
   ],
   "source": [
    "x1 = -0.02\n",
    "print('The cumulative standard normal distribution of my function is:')\n",
    "print(caculateStandardNormalCDF(x1))\n",
    "print('\\nThe cumulative standard normal distribution of norm.cdf function is:')\n",
    "print(norm.cdf(x1, 0.0, 1.0))"
   ]
  },
  {
   "cell_type": "code",
   "execution_count": 4,
   "metadata": {},
   "outputs": [
    {
     "name": "stdout",
     "output_type": "stream",
     "text": [
      "The cumulative standard normal distribution of my function is:\n",
      "0.507978313716902\n",
      "\n",
      "The cumulative standard normal distribution of norm.cdf function is:\n",
      "0.5079783137169019\n"
     ]
    }
   ],
   "source": [
    "x2 = 0.02\n",
    "print('The cumulative standard normal distribution of my function is:')\n",
    "print(caculateStandardNormalCDF(x2))\n",
    "print('\\nThe cumulative standard normal distribution of norm.cdf function is:')\n",
    "print(norm.cdf(x2, 0.0, 1.0))"
   ]
  },
  {
   "cell_type": "code",
   "execution_count": 5,
   "metadata": {},
   "outputs": [
    {
     "name": "stdout",
     "output_type": "stream",
     "text": [
      "The cumulative standard normal distribution of my function is:\n",
      "0.2118553985833967\n",
      "\n",
      "The cumulative standard normal distribution of norm.cdf function is:\n",
      "0.2118553985833967\n"
     ]
    }
   ],
   "source": [
    "x3 = -0.8\n",
    "print('The cumulative standard normal distribution of my function is:')\n",
    "print(caculateStandardNormalCDF(x3))\n",
    "print('\\nThe cumulative standard normal distribution of norm.cdf function is:')\n",
    "print(norm.cdf(x3, 0.0, 1.0))"
   ]
  },
  {
   "cell_type": "code",
   "execution_count": 6,
   "metadata": {},
   "outputs": [
    {
     "name": "stdout",
     "output_type": "stream",
     "text": [
      "The cumulative standard normal distribution of my function is:\n",
      "0.5722086370495298\n",
      "\n",
      "The cumulative standard normal distribution of norm.cdf function is:\n",
      "0.5722086370495298\n"
     ]
    }
   ],
   "source": [
    "x4 = 0.182\n",
    "print('The cumulative standard normal distribution of my function is:')\n",
    "print(caculateStandardNormalCDF(x4))\n",
    "print('\\nThe cumulative standard normal distribution of norm.cdf function is:')\n",
    "print(norm.cdf(x4, 0.0, 1.0))"
   ]
  }
 ],
 "metadata": {
  "kernelspec": {
   "display_name": "Python 3",
   "language": "python",
   "name": "python3"
  },
  "language_info": {
   "codemirror_mode": {
    "name": "ipython",
    "version": 3
   },
   "file_extension": ".py",
   "mimetype": "text/x-python",
   "name": "python",
   "nbconvert_exporter": "python",
   "pygments_lexer": "ipython3",
   "version": "3.7.3"
  }
 },
 "nbformat": 4,
 "nbformat_minor": 2
}
