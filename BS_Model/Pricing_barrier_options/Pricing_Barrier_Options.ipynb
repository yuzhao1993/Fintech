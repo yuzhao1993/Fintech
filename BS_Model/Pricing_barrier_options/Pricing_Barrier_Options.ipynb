{
 "cells": [
  {
   "cell_type": "code",
   "execution_count": 4,
   "metadata": {},
   "outputs": [],
   "source": [
    "import numpy as np\n",
    "from math import log, sqrt, exp\n",
    "from scipy import stats"
   ]
  },
  {
   "cell_type": "code",
   "execution_count": 5,
   "metadata": {},
   "outputs": [],
   "source": [
    "def bs_put_value(s, k, t, r, sigma):\n",
    "    d1 = (log(s/k) + (r + 0.5 * sigma ** 2) * t) / (sigma * sqrt(t))\n",
    "    d2 = d1 - sigma * sqrt(t)\n",
    "\n",
    "    n_d1 = stats.norm.cdf(-d1, 0.0, 1.0)\n",
    "    n_d2 = stats.norm.cdf(-d2, 0.0, 1.0)\n",
    "\n",
    "    put_price = (k * exp(-r * t) * n_d2 - s * n_d1)\n",
    "\n",
    "    return put_price"
   ]
  },
  {
   "cell_type": "code",
   "execution_count": 6,
   "metadata": {},
   "outputs": [],
   "source": [
    "def DI_put_value(s, k, sb, t, r, sigma ):\n",
    "    d3 = (log(s / sb) + (r + (sigma ** 2 / 2)) * t) / (sigma * sqrt(t))\n",
    "    d4 = (log(s / sb) + (r - (sigma ** 2 / 2)) * t) / (sigma * sqrt(t))\n",
    "    d5 = (log(s / sb) - (r - (sigma ** 2 / 2)) * t) / (sigma * sqrt(t))\n",
    "    d6 = (log(s / sb) - (r + (sigma ** 2 / 2)) * t) / (sigma * sqrt(t))\n",
    "    d7 = (log((s * k) / (sb ** 2)) - (r - (sigma ** 2 / 2)) * t) / (sigma * sqrt(t))\n",
    "    d8 = (log((s * k) / (sb ** 2)) - (r + (sigma ** 2 / 2)) * t) / (sigma * sqrt(t))\n",
    "\n",
    "    n_d3 = stats.norm.cdf(d3, 0.0, 1.0)\n",
    "    n_d4 = stats.norm.cdf(d4, 0.0, 1.0)\n",
    "    n_d5 = stats.norm.cdf(d5, 0.0, 1.0)\n",
    "    n_d6 = stats.norm.cdf(d6, 0.0, 1.0)\n",
    "    n_d7 = stats.norm.cdf(d7, 0.0, 1.0)\n",
    "    n_d8 = stats.norm.cdf(d8, 0.0, 1.0)\n",
    "\n",
    "    a = (sb / s) ** (-1 + (2 * r) / sigma ** 2)\n",
    "    b = (sb / s) ** (1 + (2 * r) / sigma ** 2)\n",
    "\n",
    "    put_DI_price = (k * exp(-r * t)) * ((1 - n_d4) + a * (n_d7 - n_d5)) - s * ((1 - n_d3) + b * (n_d8 - n_d6))\n",
    "\n",
    "    return put_DI_price"
   ]
  },
  {
   "cell_type": "code",
   "execution_count": 7,
   "metadata": {},
   "outputs": [],
   "source": [
    "def DO_put_value(s, k, sb, t, r, sigma):\n",
    "\n",
    "    d1 = (log(s / k) + (r + (sigma ** 2 / 2)) * t) / (sigma * sqrt(t))\n",
    "    d2 = (log(s / k) + (r - (sigma ** 2 / 2)) * t) / (sigma * sqrt(t))\n",
    "    d3 = (log(s / sb) + (r + (sigma ** 2 / 2)) * t) / (sigma * sqrt(t))\n",
    "    d4 = (log(s / sb) + (r - (sigma ** 2 / 2)) * t) / (sigma * sqrt(t))\n",
    "    d5 = (log(s / sb) - (r - (sigma ** 2 / 2)) * t) / (sigma * sqrt(t))\n",
    "    d6 = (log(s / sb) - (r + (sigma ** 2 / 2)) * t) / (sigma * sqrt(t))\n",
    "    d7 = (log((s * k) / (sb ** 2)) - (r - (sigma ** 2 / 2)) * t) / (sigma * sqrt(t))\n",
    "    d8 = (log((s * k) / (sb ** 2)) - (r + (sigma ** 2 / 2)) * t) / (sigma * sqrt(t))\n",
    "\n",
    "    n_d1 = stats.norm.cdf(d1, 0.0, 1.0)\n",
    "    n_d2 = stats.norm.cdf(d2, 0.0, 1.0)\n",
    "    n_d3 = stats.norm.cdf(d3, 0.0, 1.0)\n",
    "    n_d4 = stats.norm.cdf(d4, 0.0, 1.0)\n",
    "    n_d5 = stats.norm.cdf(d5, 0.0, 1.0)\n",
    "    n_d6 = stats.norm.cdf(d6, 0.0, 1.0)\n",
    "    n_d7 = stats.norm.cdf(d7, 0.0, 1.0)\n",
    "    n_d8 = stats.norm.cdf(d8, 0.0, 1.0)\n",
    "\n",
    "    a = (sb / s) ** (-1 + (2 * r) / sigma ** 2)\n",
    "    b = (sb / s) ** (1 + (2 * r) / sigma ** 2)\n",
    "\n",
    "    put_DO_price = (k * exp(-r * t)) * ((n_d4 - n_d2) - a * (n_d7 - n_d5)) - s * ((n_d3 - n_d1) - b * (n_d8 - n_d6))\n",
    "    return put_DO_price"
   ]
  },
  {
   "cell_type": "code",
   "execution_count": 8,
   "metadata": {},
   "outputs": [
    {
     "name": "stdout",
     "output_type": "stream",
     "text": [
      "The Down-and-in put price when Sb = 70 is: $ 10.7123805024734793\n",
      "The Down-and-in put price when Sb = 60 is: $  6.5767849830701799\n",
      "The Down-and-in put price when Sb = 50 is: $  2.7108351221013351\n",
      "The Down-and-in put price when Sb = 40 is: $  0.6035589440605822\n",
      "The Down-and-in put price when Sb = 30 is: $  0.0459820682159838\n",
      "The Down-and-in put price when Sb = 20 is: $  0.0003736145115562\n",
      "The Down-and-in put price when Sb = 10 is: $  0.0000000042060280\n",
      "The Down-and-in put price when Sb = 1 is: $  0.0000000000000000\n",
      "\n",
      "The price under BS model is: $ 14.4040200947648245\n",
      "\n"
     ]
    }
   ],
   "source": [
    "s = 100\n",
    "k = 105\n",
    "r = 0.05\n",
    "t = 0.75\n",
    "sigma = 0.4\n",
    "sb_l = list(range(1, 71))\n",
    "sb = sb_l[::-10]\n",
    "sb.append(1)\n",
    "\n",
    "for i in sb:\n",
    "    put_DI_price = DI_put_value(s, k, i, t, r, sigma)\n",
    "    print('The Down-and-in put price when Sb = ' + str(i) + ' is: ${:20.16f}'.format(put_DI_price))\n",
    "put_bs_price = bs_put_value(s, k, t, r, sigma)\n",
    "print('\\nThe price under BS model is: ${:20.16f}\\n'.format(put_bs_price))"
   ]
  },
  {
   "cell_type": "code",
   "execution_count": 9,
   "metadata": {},
   "outputs": [
    {
     "name": "stdout",
     "output_type": "stream",
     "text": [
      "The Down-and-out put price when sigma = 0.55 is: $  5.1449994270630768\n",
      "The Down-and-out put price when sigma = 0.50 is: $  5.9955080372755880\n",
      "The Down-and-out put price when sigma = 0.45 is: $  6.9154003443027712\n",
      "The Down-and-out put price when sigma = 0.40 is: $  7.8272351116946339\n",
      "The Down-and-out put price when sigma = 0.35 is: $  8.5781405678049865\n",
      "The Down-and-out put price when sigma = 0.30 is: $  8.9227804658101633\n",
      "The Down-and-out put price when sigma = 0.25 is: $  8.5764875000192902\n",
      "The Down-and-out put price when sigma = 0.20 is: $  7.4301125227782236\n",
      "The Down-and-out put price when sigma = 0.15 is: $  5.7940362774164598\n",
      "The Down-and-out put price when sigma = 0.10 is: $  4.0706333562221317\n"
     ]
    }
   ],
   "source": [
    "DO_sb = 60\n",
    "DO_sigma_l = np.arange(0.1, 0.56, 0.05)\n",
    "DO_sigma = np.flipud(DO_sigma_l)\n",
    "for i in DO_sigma:\n",
    "    put_DO_price = DO_put_value(s, k, DO_sb, t, r, i)\n",
    "    print('The Down-and-out put price when sigma = {:4.2f} is: ${:20.16f}'.format(i, put_DO_price))"
   ]
  },
  {
   "cell_type": "code",
   "execution_count": null,
   "metadata": {},
   "outputs": [],
   "source": []
  }
 ],
 "metadata": {
  "kernelspec": {
   "display_name": "Python 3",
   "language": "python",
   "name": "python3"
  },
  "language_info": {
   "codemirror_mode": {
    "name": "ipython",
    "version": 3
   },
   "file_extension": ".py",
   "mimetype": "text/x-python",
   "name": "python",
   "nbconvert_exporter": "python",
   "pygments_lexer": "ipython3",
   "version": "3.7.3"
  }
 },
 "nbformat": 4,
 "nbformat_minor": 2
}
