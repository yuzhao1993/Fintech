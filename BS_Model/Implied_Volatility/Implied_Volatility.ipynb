{
 "cells": [
  {
   "cell_type": "markdown",
   "metadata": {},
   "source": [
    "# Compute Implied Volatility With Different Method"
   ]
  },
  {
   "cell_type": "markdown",
   "metadata": {},
   "source": [
    "### Bisection Algorithm"
   ]
  },
  {
   "cell_type": "code",
   "execution_count": 5,
   "metadata": {},
   "outputs": [],
   "source": [
    "from math import log, sqrt, exp\n",
    "from scipy import stats"
   ]
  },
  {
   "cell_type": "code",
   "execution_count": 6,
   "metadata": {},
   "outputs": [],
   "source": [
    "def bs_call_price(s, k, t, r, sigma):\n",
    "    d1 = (log(s/k) + (r + 0.5 * sigma ** 2) * t) / (sigma * sqrt(t))\n",
    "    d2 = d1 - sigma * sqrt(t)\n",
    "\n",
    "    n_d1 = stats.norm.cdf(d1, 0.0, 1.0)\n",
    "    n_d2 = stats.norm.cdf(d2, 0.0, 1.0)\n",
    "\n",
    "    call_price = (s * n_d1 - k * exp(-r * t) * n_d2)\n",
    "\n",
    "    return call_price"
   ]
  },
  {
   "cell_type": "code",
   "execution_count": 7,
   "metadata": {},
   "outputs": [],
   "source": [
    "s = 21.709999\n",
    "t = 0.1724846\n",
    "r = 0.03\n",
    "c_p = 0.3\n",
    "true_iv = 0.10719"
   ]
  },
  {
   "cell_type": "code",
   "execution_count": 11,
   "metadata": {},
   "outputs": [],
   "source": [
    "def f_k(k):\n",
    "    return bs_call_price(s, k, t, r, true_iv) - c_p"
   ]
  },
  {
   "cell_type": "code",
   "execution_count": 12,
   "metadata": {},
   "outputs": [
    {
     "name": "stdout",
     "output_type": "stream",
     "text": [
      "K = 22.01267898082733\n"
     ]
    }
   ],
   "source": [
    "# Compute K\n",
    "a = 20\n",
    "b = 25\n",
    "epslon = 1.0\n",
    "while epslon > 1e-7:\n",
    "    if f_k(a) * f_k(b) < 0:\n",
    "        c = (a + b) / 2\n",
    "        f_c = f_k(c)\n",
    "        if f_k(a) * f_c < 0:\n",
    "            b = c\n",
    "        elif f_k(b) * f_c < 0:\n",
    "            a = c\n",
    "        epslon = abs(f_c)\n",
    "\n",
    "print('K = {}'.format(c))"
   ]
  },
  {
   "cell_type": "code",
   "execution_count": null,
   "metadata": {},
   "outputs": [],
   "source": [
    "k = 22.01267898082733"
   ]
  },
  {
   "cell_type": "code",
   "execution_count": 4,
   "metadata": {},
   "outputs": [],
   "source": [
    "def f(sigma):\n",
    "    return bs_call_price(s, k, t, r, sigma) - c_p"
   ]
  },
  {
   "cell_type": "code",
   "execution_count": 5,
   "metadata": {},
   "outputs": [],
   "source": [
    "a = 0.01\n",
    "b = 0.9"
   ]
  },
  {
   "cell_type": "code",
   "execution_count": 6,
   "metadata": {},
   "outputs": [
    {
     "name": "stdout",
     "output_type": "stream",
     "text": [
      "Implied volatility = 0.10719001650810242\n",
      "Error between true implied volatility is -1.650810242670442e-08\n",
      "Code required 23 iterations.\n"
     ]
    }
   ],
   "source": [
    "epslon = 1.0\n",
    "i = 0\n",
    "while epslon > 1e-7:\n",
    "    if f(a) * f(b) < 0:\n",
    "        c = (a + b) / 2\n",
    "        f_c = f(c)\n",
    "        if f(a) * f_c < 0:\n",
    "            b = c\n",
    "        elif f(b) * f_c < 0:\n",
    "            a = c\n",
    "        epslon = abs(f_c)\n",
    "        i += 1\n",
    "\n",
    "print('Implied volatility = {}'.format(c))\n",
    "print('Error between true implied volatility is {}'.format(true_iv - c))\n",
    "print('Code required ' + str(i) + ' iterations.')"
   ]
  },
  {
   "cell_type": "markdown",
   "metadata": {},
   "source": [
    "### Newton-Raphson Method"
   ]
  },
  {
   "cell_type": "code",
   "execution_count": 7,
   "metadata": {},
   "outputs": [],
   "source": [
    "from scipy.stats import norm\n",
    "from math import sqrt, exp, log, pi"
   ]
  },
  {
   "cell_type": "code",
   "execution_count": 8,
   "metadata": {},
   "outputs": [],
   "source": [
    "def bs_call_price(s, k, t, r, sigma):\n",
    "    d1 = (log(s/k) + (r + 0.5 * sigma ** 2) * t) / (sigma * sqrt(t))\n",
    "    d2 = d1 - sigma * sqrt(t)\n",
    "\n",
    "    n_d1 = norm.cdf(d1, 0.0, 1.0)\n",
    "    n_d2 = norm.cdf(d2, 0.0, 1.0)\n",
    "\n",
    "    call_price = (s * n_d1 - k * exp(-r * t) * n_d2)\n",
    "\n",
    "    return call_price"
   ]
  },
  {
   "cell_type": "code",
   "execution_count": 9,
   "metadata": {},
   "outputs": [],
   "source": [
    "s = 21.709999\n",
    "k = 22.01267898082733\n",
    "t = 0.1724846\n",
    "r = 0.03\n",
    "c_p = 0.3\n",
    "true_iv = 0.10719"
   ]
  },
  {
   "cell_type": "code",
   "execution_count": 10,
   "metadata": {},
   "outputs": [],
   "source": [
    "sigma = 0.9 # guess for the implied volatility."
   ]
  },
  {
   "cell_type": "code",
   "execution_count": 11,
   "metadata": {},
   "outputs": [
    {
     "name": "stdout",
     "output_type": "stream",
     "text": [
      "Implied volatility = 0.10719000000000023\n",
      "Error between true implied volatility is -2.3592239273284576e-16\n",
      "Code required 4 iterations.\n"
     ]
    }
   ],
   "source": [
    "epslon = 1.0\n",
    "i = 0\n",
    "while epslon > 1e-7:\n",
    "    if i > 1000:\n",
    "        break\n",
    "    f_val = bs_call_price(s, k, t, r, sigma) - c_p\n",
    "    d1 = (log(s / k) + (r + 0.5 * sigma ** 2) * t) / (sigma * sqrt(t))\n",
    "    vega = s * norm.pdf(d1, 0.0, 1.0) * sqrt(t)\n",
    "    sigma += - f_val / vega\n",
    "    epslon = abs(f_val)\n",
    "    i += 1\n",
    "print('Implied volatility = {}'.format(sigma))\n",
    "print('Error between true implied volatility is {}'.format(true_iv - sigma))\n",
    "print('Code required ' + str(i) + ' iterations.')"
   ]
  },
  {
   "cell_type": "markdown",
   "metadata": {},
   "source": [
    "### Secant method"
   ]
  },
  {
   "cell_type": "code",
   "execution_count": 1,
   "metadata": {},
   "outputs": [],
   "source": [
    "from scipy.stats import norm\n",
    "from math import sqrt, exp, log, pi"
   ]
  },
  {
   "cell_type": "code",
   "execution_count": 2,
   "metadata": {},
   "outputs": [],
   "source": [
    "def bs_call_price(s, k, t, r, sigma):\n",
    "    d1 = (log(s/k) + (r + 0.5 * sigma ** 2) * t) / (sigma * sqrt(t))\n",
    "    d2 = d1 - sigma * sqrt(t)\n",
    "\n",
    "    n_d1 = norm.cdf(d1, 0.0, 1.0)\n",
    "    n_d2 = norm.cdf(d2, 0.0, 1.0)\n",
    "\n",
    "    call_price = (s * n_d1 - k * exp(-r * t) * n_d2)\n",
    "\n",
    "    return call_price"
   ]
  },
  {
   "cell_type": "code",
   "execution_count": 3,
   "metadata": {},
   "outputs": [],
   "source": [
    "s = 21.709999\n",
    "k = 22.012679075185953\n",
    "t = 0.1724846\n",
    "r = 0.03\n",
    "c_p = 0.3\n",
    "true_iv = 0.10719\n",
    "\n",
    "a = 0.01\n",
    "b = 0.9"
   ]
  },
  {
   "cell_type": "code",
   "execution_count": 4,
   "metadata": {},
   "outputs": [
    {
     "name": "stdout",
     "output_type": "stream",
     "text": [
      "Implied volatility = 0.0017799235477317405\n",
      "Error between true implied volatility is 0.10541007645226826\n",
      "Code required 100 iterations.\n"
     ]
    }
   ],
   "source": [
    "j = 0\n",
    "for i in range(100):\n",
    "    j += 1\n",
    "    ans1 = bs_call_price(s, k, t, r, a)\n",
    "    ans2 = bs_call_price(s, k, t, r, b)\n",
    "    ans = ans1 - ans2\n",
    "    \n",
    "    if ans == 0.0:\n",
    "        print('Implied volatility = {}'.format(a))\n",
    "        print('Error between true implied volatility is {}'.format(true_iv - a))\n",
    "        print('Code required ' + str(j) + ' iterations.')\n",
    "    c = a - (ans1 * (a - b)) / ans\n",
    "    b = a\n",
    "    a = c\n",
    "print('Implied volatility = {}'.format(a))\n",
    "print('Error between true implied volatility is {}'.format(true_iv - a))\n",
    "print('Code required ' + str(j) + ' iterations.')"
   ]
  },
  {
   "cell_type": "markdown",
   "metadata": {},
   "source": [
    "### Muller method"
   ]
  },
  {
   "cell_type": "code",
   "execution_count": 13,
   "metadata": {},
   "outputs": [],
   "source": [
    "from scipy.stats import norm\n",
    "from math import sqrt, exp, log, pi"
   ]
  },
  {
   "cell_type": "code",
   "execution_count": 14,
   "metadata": {},
   "outputs": [],
   "source": [
    "def bs_call_price(s, k, t, r, sigma):\n",
    "    d1 = (log(s/k) + (r + 0.5 * sigma ** 2) * t) / (sigma * sqrt(t))\n",
    "    d2 = d1 - sigma * sqrt(t)\n",
    "\n",
    "    n_d1 = norm.cdf(d1, 0.0, 1.0)\n",
    "    n_d2 = norm.cdf(d2, 0.0, 1.0)\n",
    "\n",
    "    call_price = (s * n_d1 - k * exp(-r * t) * n_d2)\n",
    "\n",
    "    return call_price"
   ]
  },
  {
   "cell_type": "code",
   "execution_count": null,
   "metadata": {},
   "outputs": [],
   "source": [
    "s = 21.709999\n",
    "k = 22.012679075185953\n",
    "t = 0.1724846\n",
    "r = 0.03\n",
    "c_p = 0.3\n",
    "true_iv = 0.10719\n",
    "\n",
    "a = 0.01\n",
    "b = 0.9"
   ]
  }
 ],
 "metadata": {
  "kernelspec": {
   "display_name": "Python 3",
   "language": "python",
   "name": "python3"
  },
  "language_info": {
   "codemirror_mode": {
    "name": "ipython",
    "version": 3
   },
   "file_extension": ".py",
   "mimetype": "text/x-python",
   "name": "python",
   "nbconvert_exporter": "python",
   "pygments_lexer": "ipython3",
   "version": "3.7.3"
  }
 },
 "nbformat": 4,
 "nbformat_minor": 2
}
