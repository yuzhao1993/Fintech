{
 "cells": [
  {
   "cell_type": "code",
   "execution_count": 1,
   "metadata": {},
   "outputs": [],
   "source": [
    "from math import log, sqrt, exp\n",
    "from scipy import stats"
   ]
  },
  {
   "cell_type": "code",
   "execution_count": 7,
   "metadata": {},
   "outputs": [],
   "source": [
    "def bs_pricing(s, k, t, r, sigma, option_type):\n",
    "    d1 = (log(s/k) + (r + 0.5 * sigma ** 2) * t) / (sigma * sqrt(t))\n",
    "    d2 = d1 - sigma * sqrt(t)\n",
    "    \n",
    "    if option_type == 'call':\n",
    "        n_d1 = stats.norm.cdf(d1, 0.0, 1.0)\n",
    "        n_d2 = stats.norm.cdf(d2, 0.0, 1.0)\n",
    "        \n",
    "        call_price = (s * n_d1 - k * exp(-r * t) * n_d2)\n",
    "        \n",
    "        print(\"This Europen Call price with BS model is: ${:20.16f}\".format(call_price))\n",
    "        \n",
    "    elif option_type == 'put':\n",
    "        n_d1 = stats.norm.cdf(-d1, 0.0, 1.0)\n",
    "        n_d2 = stats.norm.cdf(-d2, 0.0, 1.0)\n",
    "        \n",
    "        put_price = (k * exp(-r * t) * n_d2 - s * n_d1)\n",
    "        \n",
    "        print(\"This Europen Put price with BS model is: ${:20.16f}\".format(put_price))\n",
    "    else:\n",
    "        print('Error: your input of option_type is incorrect.')"
   ]
  },
  {
   "cell_type": "code",
   "execution_count": 22,
   "metadata": {},
   "outputs": [],
   "source": [
    "def bsm_pricing(s, k, t, r, q, sigma, option_type):\n",
    "    d1 = (log(s/k) + (r - q + 0.5 * sigma ** 2) * t) / (sigma * sqrt(t))\n",
    "    d2 = d1 - sigma * sqrt(t)\n",
    "    \n",
    "    if option_type == 'call':\n",
    "        n_d1 = stats.norm.cdf(d1, 0.0, 1.0)\n",
    "        n_d2 = stats.norm.cdf(d2, 0.0, 1.0)\n",
    "        \n",
    "        call_price = (s * exp(-q * t) * n_d1) - (k * exp(-r * t) * n_d2)\n",
    "        \n",
    "        print(\"This Europen Call price with BSM model is: ${:20.16f}\".format(call_price))\n",
    "        \n",
    "    elif option_type == 'put':\n",
    "        n_d1 = stats.norm.cdf(-d1, 0.0, 1.0)\n",
    "        n_d2 = stats.norm.cdf(-d2, 0.0, 1.0)\n",
    "        \n",
    "        put_price = (k * exp(-r * t) * n_d2) - (s * exp(-q * t) * n_d1)\n",
    "        \n",
    "        print(\"This Europen Put price with BSM model is: ${:20.16f}\".format(put_price))\n",
    "    else:\n",
    "        print('Error: your input of option_type is incorrect.')"
   ]
  },
  {
   "cell_type": "code",
   "execution_count": 23,
   "metadata": {},
   "outputs": [
    {
     "name": "stdout",
     "output_type": "stream",
     "text": [
      "This Europen Call price with BS model is: $  1.7288248467919196\n"
     ]
    }
   ],
   "source": [
    "s = 89.0\n",
    "k = 100.0\n",
    "t = 0.5\n",
    "r = 0.02\n",
    "sigma = 0.20\n",
    "bs_pricing(s, k, t, r, sigma, 'call')"
   ]
  },
  {
   "cell_type": "code",
   "execution_count": 24,
   "metadata": {},
   "outputs": [
    {
     "name": "stdout",
     "output_type": "stream",
     "text": [
      "This Europen Put price with BS model is: $  1.1196098062956548\n"
     ]
    }
   ],
   "source": [
    "s1 = 102.5\n",
    "k1 = 88.5\n",
    "r1 = 0.03\n",
    "t1 = 0.25\n",
    "sigma1 = 0.3\n",
    "bs_pricing(s1, k1, t1, r1, sigma1, 'put')"
   ]
  },
  {
   "cell_type": "code",
   "execution_count": 25,
   "metadata": {},
   "outputs": [
    {
     "name": "stdout",
     "output_type": "stream",
     "text": [
      "This Europen Call price with BSM model is: $  0.1207693120965172\n"
     ]
    }
   ],
   "source": [
    "S = 50.0\n",
    "K = 80.0\n",
    "r = 0.1\n",
    "T = 5/12\n",
    "sigma = 0.35\n",
    "q = 0.05\n",
    "bsm_pricing(S, K, T, r, q, sigma, 'call')"
   ]
  },
  {
   "cell_type": "code",
   "execution_count": 26,
   "metadata": {},
   "outputs": [
    {
     "name": "stdout",
     "output_type": "stream",
     "text": [
      "This Europen Put price with BSM model is: $  1.6348550878826487\n"
     ]
    }
   ],
   "source": [
    "S1 = 80.0\n",
    "K1 = 75.0\n",
    "r1 = 0.1\n",
    "T1 = 5/12\n",
    "sigma1 = 0.20\n",
    "q1 = 0.07\n",
    "bsm_pricing(S1, K1, T1, r1, q1, sigma1, 'put')"
   ]
  },
  {
   "cell_type": "code",
   "execution_count": null,
   "metadata": {},
   "outputs": [],
   "source": []
  }
 ],
 "metadata": {
  "kernelspec": {
   "display_name": "Python 3",
   "language": "python",
   "name": "python3"
  },
  "language_info": {
   "codemirror_mode": {
    "name": "ipython",
    "version": 3
   },
   "file_extension": ".py",
   "mimetype": "text/x-python",
   "name": "python",
   "nbconvert_exporter": "python",
   "pygments_lexer": "ipython3",
   "version": "3.7.3"
  }
 },
 "nbformat": 4,
 "nbformat_minor": 2
}
